{
 "cells": [
  {
   "cell_type": "code",
   "execution_count": 23,
   "id": "954c0256",
   "metadata": {},
   "outputs": [
    {
     "data": {
      "text/html": [
       "<div>\n",
       "<style scoped>\n",
       "    .dataframe tbody tr th:only-of-type {\n",
       "        vertical-align: middle;\n",
       "    }\n",
       "\n",
       "    .dataframe tbody tr th {\n",
       "        vertical-align: top;\n",
       "    }\n",
       "\n",
       "    .dataframe thead th {\n",
       "        text-align: right;\n",
       "    }\n",
       "</style>\n",
       "<table border=\"1\" class=\"dataframe\">\n",
       "  <thead>\n",
       "    <tr style=\"text-align: right;\">\n",
       "      <th></th>\n",
       "      <th>user_id</th>\n",
       "      <th>Igtv_channel_name</th>\n",
       "      <th>username</th>\n",
       "      <th>video_title</th>\n",
       "      <th>video_duration</th>\n",
       "      <th>views</th>\n",
       "      <th>likes</th>\n",
       "      <th>comments</th>\n",
       "      <th>upload_date</th>\n",
       "      <th>video_category</th>\n",
       "      <th>hashtags</th>\n",
       "    </tr>\n",
       "  </thead>\n",
       "  <tbody>\n",
       "    <tr>\n",
       "      <th>0</th>\n",
       "      <td>1</td>\n",
       "      <td>Sauer LLC</td>\n",
       "      <td>ecreyke0</td>\n",
       "      <td>nulla dapibus dolor vel est donec odio justo s...</td>\n",
       "      <td>13</td>\n",
       "      <td>20</td>\n",
       "      <td>11</td>\n",
       "      <td>35</td>\n",
       "      <td>6/22/2020</td>\n",
       "      <td>action</td>\n",
       "      <td>vivamus vestibulum sagittis sapien cum sociis ...</td>\n",
       "    </tr>\n",
       "    <tr>\n",
       "      <th>1</th>\n",
       "      <td>2</td>\n",
       "      <td>Volkman, Wintheiser and Feeney</td>\n",
       "      <td>jculcheth1</td>\n",
       "      <td>egestas metus aenean fermentum donec ut mauris...</td>\n",
       "      <td>595</td>\n",
       "      <td>8</td>\n",
       "      <td>97</td>\n",
       "      <td>25</td>\n",
       "      <td>10/15/2020</td>\n",
       "      <td>sci-fi</td>\n",
       "      <td>interdum venenatis turpis enim blandit mi in p...</td>\n",
       "    </tr>\n",
       "    <tr>\n",
       "      <th>2</th>\n",
       "      <td>3</td>\n",
       "      <td>Schneider-Rowe</td>\n",
       "      <td>bhale2</td>\n",
       "      <td>non velit donec diam neque vestibulum eget vul...</td>\n",
       "      <td>1466</td>\n",
       "      <td>59</td>\n",
       "      <td>60</td>\n",
       "      <td>50</td>\n",
       "      <td>4/19/2020</td>\n",
       "      <td>action</td>\n",
       "      <td>nulla elit ac nulla sed vel enim sit amet nunc...</td>\n",
       "    </tr>\n",
       "    <tr>\n",
       "      <th>3</th>\n",
       "      <td>4</td>\n",
       "      <td>Hamill, Witting and Powlowski</td>\n",
       "      <td>mrosas3</td>\n",
       "      <td>sagittis sapien cum sociis natoque penatibus e...</td>\n",
       "      <td>2167</td>\n",
       "      <td>65</td>\n",
       "      <td>22</td>\n",
       "      <td>56</td>\n",
       "      <td>11/30/2021</td>\n",
       "      <td>documentary</td>\n",
       "      <td>in purus eu magna vulputate luctus cum sociis ...</td>\n",
       "    </tr>\n",
       "    <tr>\n",
       "      <th>4</th>\n",
       "      <td>5</td>\n",
       "      <td>DuBuque, Gislason and Littel</td>\n",
       "      <td>dbortolazzi4</td>\n",
       "      <td>amet lobortis sapien sapien non mi integer ac ...</td>\n",
       "      <td>751</td>\n",
       "      <td>88</td>\n",
       "      <td>85</td>\n",
       "      <td>53</td>\n",
       "      <td>1/13/2022</td>\n",
       "      <td>action</td>\n",
       "      <td>enim blandit mi in porttitor pede justo eu mas...</td>\n",
       "    </tr>\n",
       "  </tbody>\n",
       "</table>\n",
       "</div>"
      ],
      "text/plain": [
       "   user_id               Igtv_channel_name      username  \\\n",
       "0        1                       Sauer LLC      ecreyke0   \n",
       "1        2  Volkman, Wintheiser and Feeney    jculcheth1   \n",
       "2        3                  Schneider-Rowe        bhale2   \n",
       "3        4   Hamill, Witting and Powlowski       mrosas3   \n",
       "4        5    DuBuque, Gislason and Littel  dbortolazzi4   \n",
       "\n",
       "                                         video_title  video_duration  views  \\\n",
       "0  nulla dapibus dolor vel est donec odio justo s...              13     20   \n",
       "1  egestas metus aenean fermentum donec ut mauris...             595      8   \n",
       "2  non velit donec diam neque vestibulum eget vul...            1466     59   \n",
       "3  sagittis sapien cum sociis natoque penatibus e...            2167     65   \n",
       "4  amet lobortis sapien sapien non mi integer ac ...             751     88   \n",
       "\n",
       "   likes  comments upload_date video_category  \\\n",
       "0     11        35   6/22/2020         action   \n",
       "1     97        25  10/15/2020         sci-fi   \n",
       "2     60        50   4/19/2020         action   \n",
       "3     22        56  11/30/2021    documentary   \n",
       "4     85        53   1/13/2022         action   \n",
       "\n",
       "                                            hashtags  \n",
       "0  vivamus vestibulum sagittis sapien cum sociis ...  \n",
       "1  interdum venenatis turpis enim blandit mi in p...  \n",
       "2  nulla elit ac nulla sed vel enim sit amet nunc...  \n",
       "3  in purus eu magna vulputate luctus cum sociis ...  \n",
       "4  enim blandit mi in porttitor pede justo eu mas...  "
      ]
     },
     "execution_count": 23,
     "metadata": {},
     "output_type": "execute_result"
    }
   ],
   "source": [
    "import pandas as pd\n",
    "import seaborn as sns\n",
    "\n",
    "df = pd.read_csv('igtv.csv')\n",
    "df.head()"
   ]
  },
  {
   "cell_type": "code",
   "execution_count": 24,
   "id": "157cf635",
   "metadata": {},
   "outputs": [
    {
     "data": {
      "text/plain": [
       "(1000, 11)"
      ]
     },
     "execution_count": 24,
     "metadata": {},
     "output_type": "execute_result"
    }
   ],
   "source": [
    "df.shape"
   ]
  },
  {
   "cell_type": "code",
   "execution_count": 25,
   "id": "7f46aff3",
   "metadata": {},
   "outputs": [
    {
     "data": {
      "text/plain": [
       "False"
      ]
     },
     "execution_count": 25,
     "metadata": {},
     "output_type": "execute_result"
    }
   ],
   "source": [
    "df.isnull in df"
   ]
  },
  {
   "cell_type": "code",
   "execution_count": 26,
   "id": "5386a564",
   "metadata": {},
   "outputs": [
    {
     "data": {
      "text/plain": [
       "Index(['user_id', 'Igtv_channel_name', 'username', 'video_title',\n",
       "       'video_duration', 'views', 'likes', 'comments', 'upload_date',\n",
       "       'video_category', 'hashtags'],\n",
       "      dtype='object')"
      ]
     },
     "execution_count": 26,
     "metadata": {},
     "output_type": "execute_result"
    }
   ],
   "source": [
    "df.columns"
   ]
  },
  {
   "cell_type": "code",
   "execution_count": 27,
   "id": "ca9dd738",
   "metadata": {},
   "outputs": [
    {
     "data": {
      "text/html": [
       "<div>\n",
       "<style scoped>\n",
       "    .dataframe tbody tr th:only-of-type {\n",
       "        vertical-align: middle;\n",
       "    }\n",
       "\n",
       "    .dataframe tbody tr th {\n",
       "        vertical-align: top;\n",
       "    }\n",
       "\n",
       "    .dataframe thead th {\n",
       "        text-align: right;\n",
       "    }\n",
       "</style>\n",
       "<table border=\"1\" class=\"dataframe\">\n",
       "  <thead>\n",
       "    <tr style=\"text-align: right;\">\n",
       "      <th></th>\n",
       "      <th>views</th>\n",
       "      <th>likes</th>\n",
       "      <th>upload_date</th>\n",
       "      <th>video_category</th>\n",
       "    </tr>\n",
       "  </thead>\n",
       "  <tbody>\n",
       "    <tr>\n",
       "      <th>0</th>\n",
       "      <td>20</td>\n",
       "      <td>11</td>\n",
       "      <td>6/22/2020</td>\n",
       "      <td>action</td>\n",
       "    </tr>\n",
       "    <tr>\n",
       "      <th>1</th>\n",
       "      <td>8</td>\n",
       "      <td>97</td>\n",
       "      <td>10/15/2020</td>\n",
       "      <td>sci-fi</td>\n",
       "    </tr>\n",
       "    <tr>\n",
       "      <th>2</th>\n",
       "      <td>59</td>\n",
       "      <td>60</td>\n",
       "      <td>4/19/2020</td>\n",
       "      <td>action</td>\n",
       "    </tr>\n",
       "    <tr>\n",
       "      <th>3</th>\n",
       "      <td>65</td>\n",
       "      <td>22</td>\n",
       "      <td>11/30/2021</td>\n",
       "      <td>documentary</td>\n",
       "    </tr>\n",
       "    <tr>\n",
       "      <th>4</th>\n",
       "      <td>88</td>\n",
       "      <td>85</td>\n",
       "      <td>1/13/2022</td>\n",
       "      <td>action</td>\n",
       "    </tr>\n",
       "  </tbody>\n",
       "</table>\n",
       "</div>"
      ],
      "text/plain": [
       "   views  likes upload_date video_category\n",
       "0     20     11   6/22/2020         action\n",
       "1      8     97  10/15/2020         sci-fi\n",
       "2     59     60   4/19/2020         action\n",
       "3     65     22  11/30/2021    documentary\n",
       "4     88     85   1/13/2022         action"
      ]
     },
     "execution_count": 27,
     "metadata": {},
     "output_type": "execute_result"
    }
   ],
   "source": [
    "new_df = df[['views','likes','upload_date','video_category']]\n",
    "new_df.head()"
   ]
  },
  {
   "cell_type": "code",
   "execution_count": 35,
   "id": "aa5e7659",
   "metadata": {},
   "outputs": [
    {
     "ename": "ValueError",
     "evalue": "'new_df' is not one of the example datasets.",
     "output_type": "error",
     "traceback": [
      "\u001b[1;31m---------------------------------------------------------------------------\u001b[0m",
      "\u001b[1;31mValueError\u001b[0m                                Traceback (most recent call last)",
      "Cell \u001b[1;32mIn[35], line 4\u001b[0m\n\u001b[0;32m      2\u001b[0m sns\u001b[38;5;241m.\u001b[39mset_theme()\n\u001b[0;32m      3\u001b[0m \u001b[38;5;66;03m# Load an example dataset\u001b[39;00m\n\u001b[1;32m----> 4\u001b[0m new_df \u001b[38;5;241m=\u001b[39m \u001b[43msns\u001b[49m\u001b[38;5;241;43m.\u001b[39;49m\u001b[43mload_dataset\u001b[49m\u001b[43m(\u001b[49m\u001b[38;5;124;43m\"\u001b[39;49m\u001b[38;5;124;43mnew_df\u001b[39;49m\u001b[38;5;124;43m\"\u001b[39;49m\u001b[43m)\u001b[49m\n\u001b[0;32m      5\u001b[0m \u001b[38;5;66;03m# Create a visualization\u001b[39;00m\n\u001b[0;32m      6\u001b[0m sns\u001b[38;5;241m.\u001b[39mrelplot(\n\u001b[0;32m      7\u001b[0m     data\u001b[38;5;241m=\u001b[39mnew_df,\n\u001b[0;32m      8\u001b[0m     x\u001b[38;5;241m=\u001b[39m\u001b[38;5;124m\"\u001b[39m\u001b[38;5;124mvideo_category\u001b[39m\u001b[38;5;124m\"\u001b[39m, y\u001b[38;5;241m=\u001b[39m\u001b[38;5;124m\"\u001b[39m\u001b[38;5;124mupload_date\u001b[39m\u001b[38;5;124m\"\u001b[39m,\n\u001b[0;32m      9\u001b[0m     hue\u001b[38;5;241m=\u001b[39m\u001b[38;5;124m\"\u001b[39m\u001b[38;5;124msmoker\u001b[39m\u001b[38;5;124m\"\u001b[39m, style\u001b[38;5;241m=\u001b[39m\u001b[38;5;124m\"\u001b[39m\u001b[38;5;124msmoker\u001b[39m\u001b[38;5;124m\"\u001b[39m, size\u001b[38;5;241m=\u001b[39m\u001b[38;5;124m\"\u001b[39m\u001b[38;5;124msize\u001b[39m\u001b[38;5;124m\"\u001b[39m,\n\u001b[0;32m     10\u001b[0m )\n",
      "File \u001b[1;32m~\\anaconda3\\lib\\site-packages\\seaborn\\utils.py:587\u001b[0m, in \u001b[0;36mload_dataset\u001b[1;34m(name, cache, data_home, **kws)\u001b[0m\n\u001b[0;32m    585\u001b[0m \u001b[38;5;28;01mif\u001b[39;00m \u001b[38;5;129;01mnot\u001b[39;00m os\u001b[38;5;241m.\u001b[39mpath\u001b[38;5;241m.\u001b[39mexists(cache_path):\n\u001b[0;32m    586\u001b[0m     \u001b[38;5;28;01mif\u001b[39;00m name \u001b[38;5;129;01mnot\u001b[39;00m \u001b[38;5;129;01min\u001b[39;00m get_dataset_names():\n\u001b[1;32m--> 587\u001b[0m         \u001b[38;5;28;01mraise\u001b[39;00m \u001b[38;5;167;01mValueError\u001b[39;00m(\u001b[38;5;124mf\u001b[39m\u001b[38;5;124m\"\u001b[39m\u001b[38;5;124m'\u001b[39m\u001b[38;5;132;01m{\u001b[39;00mname\u001b[38;5;132;01m}\u001b[39;00m\u001b[38;5;124m'\u001b[39m\u001b[38;5;124m is not one of the example datasets.\u001b[39m\u001b[38;5;124m\"\u001b[39m)\n\u001b[0;32m    588\u001b[0m     urlretrieve(url, cache_path)\n\u001b[0;32m    589\u001b[0m full_path \u001b[38;5;241m=\u001b[39m cache_path\n",
      "\u001b[1;31mValueError\u001b[0m: 'new_df' is not one of the example datasets."
     ]
    }
   ],
   "source": [
    "# Apply the default theme\n",
    "sns.set_theme()\n",
    "# Load an example dataset\n",
    "= sns.load_dataset(\"new_df\")\n",
    "# Create a visualization\n",
    "sns.relplot(\n",
    "    data=new_df,\n",
    "    x=\"video_category\", y=\"upload_date\",col = \"time\"\n",
    "    hue=\"smoker\", style=\"smoker\", size=\"size\",\n",
    ")"
   ]
  },
  {
   "cell_type": "code",
   "execution_count": null,
   "id": "bd318bb1",
   "metadata": {},
   "outputs": [],
   "source": []
  }
 ],
 "metadata": {
  "kernelspec": {
   "display_name": "Python 3 (ipykernel)",
   "language": "python",
   "name": "python3"
  },
  "language_info": {
   "codemirror_mode": {
    "name": "ipython",
    "version": 3
   },
   "file_extension": ".py",
   "mimetype": "text/x-python",
   "name": "python",
   "nbconvert_exporter": "python",
   "pygments_lexer": "ipython3",
   "version": "3.10.9"
  }
 },
 "nbformat": 4,
 "nbformat_minor": 5
}
