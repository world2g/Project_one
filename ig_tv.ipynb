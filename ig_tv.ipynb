{
 "cells": [
  {
   "cell_type": "code",
   "execution_count": 1,
   "id": "954c0256",
   "metadata": {},
   "outputs": [
    {
     "data": {
      "text/html": [
       "<div>\n",
       "<style scoped>\n",
       "    .dataframe tbody tr th:only-of-type {\n",
       "        vertical-align: middle;\n",
       "    }\n",
       "\n",
       "    .dataframe tbody tr th {\n",
       "        vertical-align: top;\n",
       "    }\n",
       "\n",
       "    .dataframe thead th {\n",
       "        text-align: right;\n",
       "    }\n",
       "</style>\n",
       "<table border=\"1\" class=\"dataframe\">\n",
       "  <thead>\n",
       "    <tr style=\"text-align: right;\">\n",
       "      <th></th>\n",
       "      <th>user_id</th>\n",
       "      <th>Igtv_channel_name</th>\n",
       "      <th>username</th>\n",
       "      <th>video_title</th>\n",
       "      <th>video_duration</th>\n",
       "      <th>views</th>\n",
       "      <th>likes</th>\n",
       "      <th>comments</th>\n",
       "      <th>upload_date</th>\n",
       "      <th>video_category</th>\n",
       "      <th>hashtags</th>\n",
       "    </tr>\n",
       "  </thead>\n",
       "  <tbody>\n",
       "    <tr>\n",
       "      <th>0</th>\n",
       "      <td>1</td>\n",
       "      <td>Sauer LLC</td>\n",
       "      <td>ecreyke0</td>\n",
       "      <td>nulla dapibus dolor vel est donec odio justo s...</td>\n",
       "      <td>13</td>\n",
       "      <td>20</td>\n",
       "      <td>11</td>\n",
       "      <td>35</td>\n",
       "      <td>6/22/2020</td>\n",
       "      <td>action</td>\n",
       "      <td>vivamus vestibulum sagittis sapien cum sociis ...</td>\n",
       "    </tr>\n",
       "    <tr>\n",
       "      <th>1</th>\n",
       "      <td>2</td>\n",
       "      <td>Volkman, Wintheiser and Feeney</td>\n",
       "      <td>jculcheth1</td>\n",
       "      <td>egestas metus aenean fermentum donec ut mauris...</td>\n",
       "      <td>595</td>\n",
       "      <td>8</td>\n",
       "      <td>97</td>\n",
       "      <td>25</td>\n",
       "      <td>10/15/2020</td>\n",
       "      <td>sci-fi</td>\n",
       "      <td>interdum venenatis turpis enim blandit mi in p...</td>\n",
       "    </tr>\n",
       "    <tr>\n",
       "      <th>2</th>\n",
       "      <td>3</td>\n",
       "      <td>Schneider-Rowe</td>\n",
       "      <td>bhale2</td>\n",
       "      <td>non velit donec diam neque vestibulum eget vul...</td>\n",
       "      <td>1466</td>\n",
       "      <td>59</td>\n",
       "      <td>60</td>\n",
       "      <td>50</td>\n",
       "      <td>4/19/2020</td>\n",
       "      <td>action</td>\n",
       "      <td>nulla elit ac nulla sed vel enim sit amet nunc...</td>\n",
       "    </tr>\n",
       "    <tr>\n",
       "      <th>3</th>\n",
       "      <td>4</td>\n",
       "      <td>Hamill, Witting and Powlowski</td>\n",
       "      <td>mrosas3</td>\n",
       "      <td>sagittis sapien cum sociis natoque penatibus e...</td>\n",
       "      <td>2167</td>\n",
       "      <td>65</td>\n",
       "      <td>22</td>\n",
       "      <td>56</td>\n",
       "      <td>11/30/2021</td>\n",
       "      <td>documentary</td>\n",
       "      <td>in purus eu magna vulputate luctus cum sociis ...</td>\n",
       "    </tr>\n",
       "    <tr>\n",
       "      <th>4</th>\n",
       "      <td>5</td>\n",
       "      <td>DuBuque, Gislason and Littel</td>\n",
       "      <td>dbortolazzi4</td>\n",
       "      <td>amet lobortis sapien sapien non mi integer ac ...</td>\n",
       "      <td>751</td>\n",
       "      <td>88</td>\n",
       "      <td>85</td>\n",
       "      <td>53</td>\n",
       "      <td>1/13/2022</td>\n",
       "      <td>action</td>\n",
       "      <td>enim blandit mi in porttitor pede justo eu mas...</td>\n",
       "    </tr>\n",
       "  </tbody>\n",
       "</table>\n",
       "</div>"
      ],
      "text/plain": [
       "   user_id               Igtv_channel_name      username  \\\n",
       "0        1                       Sauer LLC      ecreyke0   \n",
       "1        2  Volkman, Wintheiser and Feeney    jculcheth1   \n",
       "2        3                  Schneider-Rowe        bhale2   \n",
       "3        4   Hamill, Witting and Powlowski       mrosas3   \n",
       "4        5    DuBuque, Gislason and Littel  dbortolazzi4   \n",
       "\n",
       "                                         video_title  video_duration  views  \\\n",
       "0  nulla dapibus dolor vel est donec odio justo s...              13     20   \n",
       "1  egestas metus aenean fermentum donec ut mauris...             595      8   \n",
       "2  non velit donec diam neque vestibulum eget vul...            1466     59   \n",
       "3  sagittis sapien cum sociis natoque penatibus e...            2167     65   \n",
       "4  amet lobortis sapien sapien non mi integer ac ...             751     88   \n",
       "\n",
       "   likes  comments upload_date video_category  \\\n",
       "0     11        35   6/22/2020         action   \n",
       "1     97        25  10/15/2020         sci-fi   \n",
       "2     60        50   4/19/2020         action   \n",
       "3     22        56  11/30/2021    documentary   \n",
       "4     85        53   1/13/2022         action   \n",
       "\n",
       "                                            hashtags  \n",
       "0  vivamus vestibulum sagittis sapien cum sociis ...  \n",
       "1  interdum venenatis turpis enim blandit mi in p...  \n",
       "2  nulla elit ac nulla sed vel enim sit amet nunc...  \n",
       "3  in purus eu magna vulputate luctus cum sociis ...  \n",
       "4  enim blandit mi in porttitor pede justo eu mas...  "
      ]
     },
     "execution_count": 1,
     "metadata": {},
     "output_type": "execute_result"
    }
   ],
   "source": [
    "import pandas as pd\n",
    "import seaborn as sns\n",
    "from sklearn.model_selection import train_test_split\n",
    "from sklearn.neighbors import KNeighborsClassifier\n",
    "df = pd.read_csv('igtv.csv')\n",
    "df.head()"
   ]
  },
  {
   "cell_type": "code",
   "execution_count": 2,
   "id": "157cf635",
   "metadata": {},
   "outputs": [
    {
     "data": {
      "text/plain": [
       "(1000, 11)"
      ]
     },
     "execution_count": 2,
     "metadata": {},
     "output_type": "execute_result"
    }
   ],
   "source": [
    "df.shape"
   ]
  },
  {
   "cell_type": "code",
   "execution_count": 3,
   "id": "7f46aff3",
   "metadata": {},
   "outputs": [
    {
     "data": {
      "text/plain": [
       "False"
      ]
     },
     "execution_count": 3,
     "metadata": {},
     "output_type": "execute_result"
    }
   ],
   "source": [
    "df.isnull in df"
   ]
  },
  {
   "cell_type": "code",
   "execution_count": 4,
   "id": "5386a564",
   "metadata": {},
   "outputs": [
    {
     "data": {
      "text/plain": [
       "Index(['user_id', 'Igtv_channel_name', 'username', 'video_title',\n",
       "       'video_duration', 'views', 'likes', 'comments', 'upload_date',\n",
       "       'video_category', 'hashtags'],\n",
       "      dtype='object')"
      ]
     },
     "execution_count": 4,
     "metadata": {},
     "output_type": "execute_result"
    }
   ],
   "source": [
    "df.columns"
   ]
  },
  {
   "cell_type": "code",
   "execution_count": 6,
   "id": "7d2f9afa",
   "metadata": {},
   "outputs": [
    {
     "data": {
      "text/plain": [
       "<Axes: xlabel='video_category', ylabel='count'>"
      ]
     },
     "execution_count": 6,
     "metadata": {},
     "output_type": "execute_result"
    },
    {
     "data": {
      "image/png": "[encoded data removed]",
      "text/plain": [
       "<Figure size 640x480 with 1 Axes>"
      ]
     },
     "metadata": {},
     "output_type": "display_data"
    }
   ],
   "source": [
    "new_df = df[['views','likes','video_category']]\n",
    "graph = sns.countplot(new_df ,x = 'video_category',width = 0.8)\n",
    "graph"
   ]
  },
  {
   "cell_type": "code",
   "execution_count": 7,
   "id": "0e10a139",
   "metadata": {},
   "outputs": [
    {
     "data": {
      "text/plain": [
       "array(['action', 'sci-fi', 'documentary', 'comedy', 'horror', 'romance',\n",
       "       'drama', 'animation', 'thriller', 'adventure'], dtype=object)"
      ]
     },
     "execution_count": 7,
     "metadata": {},
     "output_type": "execute_result"
    }
   ],
   "source": [
    "new_df['video_category'].unique()"
   ]
  },
  {
   "cell_type": "code",
   "execution_count": 8,
   "id": "6d5ed25a",
   "metadata": {
    "scrolled": true
   },
   "outputs": [
    {
     "ename": "SyntaxError",
     "evalue": "unmatched ']' (483050775.py, line 1)",
     "output_type": "error",
     "traceback": [
      "\u001b[1;36m  Cell \u001b[1;32mIn[8], line 1\u001b[1;36m\u001b[0m\n\u001b[1;33m    ml_df = new_df['[views','likes']]\u001b[0m\n\u001b[1;37m                                    ^\u001b[0m\n\u001b[1;31mSyntaxError\u001b[0m\u001b[1;31m:\u001b[0m unmatched ']'\n"
     ]
    }
   ],
   "source": [
    "ml_df = new_df['[views','likes']]\n",
    "X = ml_df\n",
    "y = ml_df\n",
    "X_train, X_test, y_train, y_test = train_test_split(X,y,test_size = 0.2)\n",
    "print(X_train.shape)\n",
    "print(X_test.shape)"
   ]
  },
  {
   "cell_type": "code",
   "execution_count": null,
   "id": "7fba98bb",
   "metadata": {},
   "outputs": [],
   "source": [
    "clf = KNeighborsClassifier(n_neighbors = 3)\n",
    "clf.fit(X_train,y_train)"
   ]
  },
  {
   "cell_type": "code",
   "execution_count": null,
   "id": "fca6ae10",
   "metadata": {},
   "outputs": [],
   "source": []
  }
 ],
 "metadata": {
  "kernelspec": {
   "display_name": "Python 3 (ipykernel)",
   "language": "python",
   "name": "python3"
  },
  "language_info": {
   "codemirror_mode": {
    "name": "ipython",
    "version": 3
   },
   "file_extension": ".py",
   "mimetype": "text/x-python",
   "name": "python",
   "nbconvert_exporter": "python",
   "pygments_lexer": "ipython3",
   "version": "3.10.9"
  }
 },
 "nbformat": 4,
 "nbformat_minor": 5
}
